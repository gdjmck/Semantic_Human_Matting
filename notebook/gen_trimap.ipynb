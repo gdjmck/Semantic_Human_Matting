{
 "cells": [
  {
   "cell_type": "code",
   "execution_count": null,
   "metadata": {},
   "outputs": [],
   "source": [
    "segments_folder = '../matting_human_half/segments/'"
   ]
  },
  {
   "cell_type": "code",
   "execution_count": 8,
   "metadata": {},
   "outputs": [],
   "source": [
    "import os\n",
    "import random\n",
    "import numpy as np\n",
    "import cv2\n",
    "import matplotlib.pyplot as plt\n",
    "import sys\n",
    "#sys.path.append('../')"
   ]
  },
  {
   "cell_type": "markdown",
   "metadata": {},
   "source": [
    "## 测试生成trimap"
   ]
  },
  {
   "cell_type": "code",
   "execution_count": 2,
   "metadata": {},
   "outputs": [],
   "source": [
    "import pickle\n",
    "with open('../imgList.pkl', 'rb') as f:\n",
    "    img_list = pickle.load(f)\n",
    "with open('../imgMatte.pkl', 'rb') as f:\n",
    "    alpha_list = pickle.load(f)"
   ]
  },
  {
   "cell_type": "code",
   "execution_count": 1,
   "metadata": {},
   "outputs": [],
   "source": [
    "trimap_folder = '../matting_human_half/segments/trimap'\n",
    "image_folder = '../matting_human_half/segments/image'\n",
    "alpha_folder = '../matting_human_half/segments/alpha'"
   ]
  },
  {
   "cell_type": "code",
   "execution_count": null,
   "metadata": {},
   "outputs": [],
   "source": [
    "img = plt.imread('../'+img_list[0])"
   ]
  },
  {
   "cell_type": "code",
   "execution_count": null,
   "metadata": {},
   "outputs": [],
   "source": [
    "prefix_name = img_list[0].split('/')[-1].split('.')[0]\n",
    "for alpha_file in alpha_list:\n",
    "    if prefix_name in alpha_file:\n",
    "        alpha = plt.imread('../'+alpha_file)\n",
    "        break"
   ]
  },
  {
   "cell_type": "code",
   "execution_count": null,
   "metadata": {
    "scrolled": true
   },
   "outputs": [],
   "source": [
    "plt.imshow(((alpha[:, :, -1] < 0.8) & (alpha[:, :, -1] > 0.1)).astype(np.int32) * 255)"
   ]
  },
  {
   "cell_type": "code",
   "execution_count": 6,
   "metadata": {},
   "outputs": [],
   "source": [
    "def gen_trimap(alpha, fg_thr=0.8, bg_thr=0.1, kernel_max=15, kernel_min=5):\n",
    "    if len(alpha.shape) == 3 and alpha.shape[-1] == 4:\n",
    "        alpha = alpha[:, :, -1].copy()\n",
    "    trimap = np.zeros(alpha.shape)\n",
    "    unsure_msk = np.zeros(alpha.shape)\n",
    "    trimap[alpha >= fg_thr] = 255\n",
    "    trimap[alpha <= bg_thr] = 0\n",
    "    \n",
    "    unsure_msk[(alpha>bg_thr) & (alpha<fg_thr)] = 1\n",
    "    kernel_size = random.randint(kernel_min, kernel_max)\n",
    "    print(kernel_size)\n",
    "    kernel = cv2.getStructuringElement(cv2.MORPH_ELLIPSE, (kernel_size, kernel_size))\n",
    "    unsure_msk = cv2.dilate(unsure_msk, kernel, iterations=1).astype(bool)\n",
    "    \n",
    "    trimap[unsure_msk] = 128\n",
    "    return trimap"
   ]
  },
  {
   "cell_type": "code",
   "execution_count": null,
   "metadata": {},
   "outputs": [],
   "source": [
    "test = plt.imread('test.png')\n",
    "test.shape"
   ]
  },
  {
   "cell_type": "code",
   "execution_count": null,
   "metadata": {},
   "outputs": [],
   "source": [
    "for alpha_file in alpha_list:\n",
    "    filename = alpha_file.split('/')[-1]\n",
    "    if not os.path.isfile('../'+alpha_file):\n",
    "        print(alpha_file, 'missing')\n",
    "        continue\n",
    "    alpha = cv2.imread('../'+alpha_file, -1)\n",
    "    cv2.imwrite(image_folder+'/'+filename, alpha[:, :, :3])\n",
    "    #cv2.imwrite(alpha_folder+'/'+filename, alpha[:, :, -1])\n",
    "    #cv2.imwrite(trimap_folder+'/'+filename, gen_trimap(alpha))"
   ]
  },
  {
   "cell_type": "code",
   "execution_count": null,
   "metadata": {},
   "outputs": [],
   "source": [
    "alpha_list[0]"
   ]
  },
  {
   "cell_type": "code",
   "execution_count": null,
   "metadata": {},
   "outputs": [],
   "source": [
    "exist = os.listdir('../matting_human_half/segments/alpha')"
   ]
  },
  {
   "cell_type": "code",
   "execution_count": null,
   "metadata": {},
   "outputs": [],
   "source": [
    "remove_list = []\n",
    "for f in alpha_list:\n",
    "    if f.split('/')[-1] in exist:\n",
    "        remove_list.append(f)\n",
    "for f in remove_list:\n",
    "    alpha_list.remove(f)"
   ]
  },
  {
   "cell_type": "code",
   "execution_count": null,
   "metadata": {},
   "outputs": [],
   "source": []
  }
 ],
 "metadata": {
  "kernelspec": {
   "display_name": "Python 3",
   "language": "python",
   "name": "python3"
  },
  "language_info": {
   "codemirror_mode": {
    "name": "ipython",
    "version": 3
   },
   "file_extension": ".py",
   "mimetype": "text/x-python",
   "name": "python",
   "nbconvert_exporter": "python",
   "pygments_lexer": "ipython3",
   "version": "3.6.8"
  }
 },
 "nbformat": 4,
 "nbformat_minor": 2
}
